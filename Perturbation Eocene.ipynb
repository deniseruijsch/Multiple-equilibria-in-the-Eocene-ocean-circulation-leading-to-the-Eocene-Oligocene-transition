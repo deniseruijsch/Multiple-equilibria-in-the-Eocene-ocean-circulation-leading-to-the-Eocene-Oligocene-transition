{
 "cells": [
  {
   "cell_type": "code",
   "execution_count": 2,
   "metadata": {},
   "outputs": [],
   "source": [
    "import numpy as np\n",
    "\n",
    "import pandas as pd\n",
    "\n",
    "import matplotlib.pyplot as plt\n",
    "\n",
    "import xarray as xr"
   ]
  },
  {
   "cell_type": "code",
   "execution_count": 3,
   "metadata": {},
   "outputs": [
    {
     "data": {
      "text/html": [
       "<pre>&lt;xarray.Dataset&gt;\n",
       "Dimensions:            (Time: 100, isle: 6, xt: 90, xu: 90, yt: 40, yu: 40, zt: 15, zw: 15)\n",
       "Coordinates:\n",
       "  * Time               (Time) float64 1.804e+05 1.807e+05 ... 2.156e+05 2.16e+05\n",
       "  * isle               (isle) float64 1.0 2.0 3.0 4.0 5.0 6.0\n",
       "  * xt                 (xt) float64 182.0 186.0 190.0 ... 530.0 534.0 538.0\n",
       "  * xu                 (xu) float64 184.0 188.0 192.0 ... 532.0 536.0 540.0\n",
       "  * yt                 (yt) float64 -78.0 -74.0 -70.0 -66.0 ... 70.0 74.0 78.0\n",
       "  * yu                 (yu) float64 -76.0 -72.0 -68.0 -64.0 ... 72.0 76.0 80.0\n",
       "  * zt                 (zt) float64 -4.855e+03 -4.165e+03 ... -65.0 -35.0\n",
       "  * zw                 (zw) float64 -4.51e+03 -3.87e+03 -3.28e+03 ... -50.0 0.0\n",
       "Data variables:\n",
       "    Hd                 (Time, zt, yt, xt) float64 ...\n",
       "    Nsqr               (Time, zw, yt, xt) float64 ...\n",
       "    area_t             (yt, xt) float64 ...\n",
       "    area_u             (yt, xu) float64 ...\n",
       "    area_v             (yu, xt) float64 ...\n",
       "    beta               (yt, xt) float64 ...\n",
       "    dxt                (xt) float64 ...\n",
       "    dxu                (xu) float64 ...\n",
       "    dyt                (yt) float64 ...\n",
       "    dyu                (yu) float64 ...\n",
       "    dzt                (zt) float64 ...\n",
       "    dzw                (zw) float64 ...\n",
       "    eke                (Time, zw, yt, xt) float64 ...\n",
       "    forc_rho_surface   (Time, yt, xt) float64 ...\n",
       "    forc_salt_surface  (Time, yt, xt) float64 ...\n",
       "    forc_temp_surface  (Time, yt, xt) float64 ...\n",
       "    forc_tke_surface   (Time, yt, xt) float64 ...\n",
       "    ht                 (yt, xt) float64 ...\n",
       "    hu                 (yt, xu) float64 ...\n",
       "    hv                 (yu, xt) float64 ...\n",
       "    int_drhodS         (Time, zt, yt, xt) float64 ...\n",
       "    int_drhodT         (Time, zt, yt, xt) float64 ...\n",
       "    kappaH             (Time, zw, yt, xt) float64 ...\n",
       "    kappaM             (Time, zt, yt, xt) float64 ...\n",
       "    p_hydro            (Time, zt, yt, xt) float64 ...\n",
       "    prho               (Time, zt, yt, xt) float64 ...\n",
       "    psi                (Time, yu, xu) float64 ...\n",
       "    psin               (isle, yu, xu) float64 ...\n",
       "    rho                (Time, zt, yt, xt) float64 ...\n",
       "    salt               (Time, zt, yt, xt) float64 ...\n",
       "    surface_taux       (Time, yt, xu) float64 ...\n",
       "    surface_tauy       (Time, yu, xt) float64 ...\n",
       "    temp               (Time, zt, yt, xt) float64 ...\n",
       "    tke                (Time, zw, yt, xt) float64 ...\n",
       "    u                  (Time, zt, yt, xu) float64 ...\n",
       "    v                  (Time, zt, yu, xt) float64 ...\n",
       "    w                  (Time, zw, yt, xt) float64 ...</pre>"
      ],
      "text/plain": [
       "<xarray.Dataset>\n",
       "Dimensions:            (Time: 100, isle: 6, xt: 90, xu: 90, yt: 40, yu: 40, zt: 15, zw: 15)\n",
       "Coordinates:\n",
       "  * Time               (Time) float64 1.804e+05 1.807e+05 ... 2.156e+05 2.16e+05\n",
       "  * isle               (isle) float64 1.0 2.0 3.0 4.0 5.0 6.0\n",
       "  * xt                 (xt) float64 182.0 186.0 190.0 ... 530.0 534.0 538.0\n",
       "  * xu                 (xu) float64 184.0 188.0 192.0 ... 532.0 536.0 540.0\n",
       "  * yt                 (yt) float64 -78.0 -74.0 -70.0 -66.0 ... 70.0 74.0 78.0\n",
       "  * yu                 (yu) float64 -76.0 -72.0 -68.0 -64.0 ... 72.0 76.0 80.0\n",
       "  * zt                 (zt) float64 -4.855e+03 -4.165e+03 ... -65.0 -35.0\n",
       "  * zw                 (zw) float64 -4.51e+03 -3.87e+03 -3.28e+03 ... -50.0 0.0\n",
       "Data variables:\n",
       "    Hd                 (Time, zt, yt, xt) float64 ...\n",
       "    Nsqr               (Time, zw, yt, xt) float64 ...\n",
       "    area_t             (yt, xt) float64 ...\n",
       "    area_u             (yt, xu) float64 ...\n",
       "    area_v             (yu, xt) float64 ...\n",
       "    beta               (yt, xt) float64 ...\n",
       "    dxt                (xt) float64 ...\n",
       "    dxu                (xu) float64 ...\n",
       "    dyt                (yt) float64 ...\n",
       "    dyu                (yu) float64 ...\n",
       "    dzt                (zt) float64 ...\n",
       "    dzw                (zw) float64 ...\n",
       "    eke                (Time, zw, yt, xt) float64 ...\n",
       "    forc_rho_surface   (Time, yt, xt) float64 ...\n",
       "    forc_salt_surface  (Time, yt, xt) float64 ...\n",
       "    forc_temp_surface  (Time, yt, xt) float64 ...\n",
       "    forc_tke_surface   (Time, yt, xt) float64 ...\n",
       "    ht                 (yt, xt) float64 ...\n",
       "    hu                 (yt, xu) float64 ...\n",
       "    hv                 (yu, xt) float64 ...\n",
       "    int_drhodS         (Time, zt, yt, xt) float64 ...\n",
       "    int_drhodT         (Time, zt, yt, xt) float64 ...\n",
       "    kappaH             (Time, zw, yt, xt) float64 ...\n",
       "    kappaM             (Time, zt, yt, xt) float64 ...\n",
       "    p_hydro            (Time, zt, yt, xt) float64 ...\n",
       "    prho               (Time, zt, yt, xt) float64 ...\n",
       "    psi                (Time, yu, xu) float64 ...\n",
       "    psin               (isle, yu, xu) float64 ...\n",
       "    rho                (Time, zt, yt, xt) float64 ...\n",
       "    salt               (Time, zt, yt, xt) float64 ...\n",
       "    surface_taux       (Time, yt, xu) float64 ...\n",
       "    surface_tauy       (Time, yu, xt) float64 ...\n",
       "    temp               (Time, zt, yt, xt) float64 ...\n",
       "    tke                (Time, zw, yt, xt) float64 ...\n",
       "    u                  (Time, zt, yt, xu) float64 ...\n",
       "    v                  (Time, zt, yu, xt) float64 ...\n",
       "    w                  (Time, zw, yt, xt) float64 ..."
      ]
     },
     "execution_count": 3,
     "metadata": {},
     "output_type": "execute_result"
    }
   ],
   "source": [
    "ds = xr.open_dataset('restart van 100 jaar na 500 jaar/4deg-35ma.averages.nc')\n",
    "ds\n",
    "\n",
    "ds2 = xr.open_dataset('restart van 100 jaar na 500 jaar/4deg-35ma.snapshot.nc')\n",
    "ds2"
   ]
  },
  {
   "cell_type": "code",
   "execution_count": 4,
   "metadata": {},
   "outputs": [
    {
     "name": "stdout",
     "output_type": "stream",
     "text": [
      "<xarray.DataArray 'forc_salt_surface' (yt: 8, xt: 22)>\n",
      "array([[          nan,           nan,           nan,           nan,\n",
      "        -8.024742e-07, -4.522727e-07, -1.070585e-07,  1.925187e-07,\n",
      "         3.511161e-07,  3.360225e-07,  1.102344e-07, -8.516978e-07,\n",
      "                  nan,           nan,           nan,           nan,\n",
      "                  nan,           nan,           nan,           nan,\n",
      "                  nan,           nan],\n",
      "       [          nan,           nan,           nan,           nan,\n",
      "        -6.789508e-07, -1.010434e-07,  4.782414e-08,  2.060861e-07,\n",
      "         3.217252e-07,  3.338994e-07,  3.172857e-07,           nan,\n",
      "                  nan,           nan,           nan,           nan,\n",
      "                  nan,           nan,           nan,           nan,\n",
      "                  nan,           nan],\n",
      "       [          nan,           nan,           nan,           nan,\n",
      "        -3.882450e-06, -1.922582e-06, -1.179268e-06, -6.113924e-07,\n",
      "        -2.147541e-07, -1.156946e-07, -1.399999e-07,  1.632937e-07,\n",
      "                  nan,           nan,           nan,           nan,\n",
      "                  nan,           nan,           nan,           nan,\n",
      "                  nan,           nan],\n",
      "       [          nan,           nan,           nan,           nan,\n",
      "                  nan,           nan,           nan, -3.717958e-06,\n",
      "        -1.884628e-06, -1.084082e-06, -6.195354e-07, -5.154810e-07,\n",
      "        -1.289058e-07,  7.032502e-08,           nan,           nan,\n",
      "                  nan,           nan,           nan,           nan,\n",
      "                  nan,           nan],\n",
      "       [          nan,           nan,           nan,           nan,\n",
      "                  nan,           nan,           nan,           nan,\n",
      "                  nan,           nan, -6.800913e-07, -4.352664e-07,\n",
      "        -5.182197e-07, -5.206225e-07, -1.903554e-07,           nan,\n",
      "                  nan,           nan,           nan,           nan,\n",
      "                  nan,           nan],\n",
      "       [          nan,           nan,           nan,           nan,\n",
      "                  nan,           nan,           nan,           nan,\n",
      "                  nan,           nan,           nan, -7.354748e-08,\n",
      "        -2.044492e-07, -2.760214e-07, -2.298524e-07,           nan,\n",
      "                  nan,           nan,           nan,           nan,\n",
      "                  nan,           nan],\n",
      "       [          nan,           nan,           nan,           nan,\n",
      "                  nan,           nan,           nan,           nan,\n",
      "                  nan,           nan,           nan, -1.555033e-07,\n",
      "        -2.421313e-07, -2.721929e-07, -3.020852e-07, -2.027997e-07,\n",
      "        -1.493029e-07, -9.683851e-08, -5.539498e-08, -3.368252e-08,\n",
      "        -1.001818e-08,           nan],\n",
      "       [          nan,           nan,           nan,           nan,\n",
      "                  nan,           nan,           nan,           nan,\n",
      "                  nan,           nan,           nan,           nan,\n",
      "        -4.262288e-08, -7.495601e-08, -7.308241e-08, -6.361333e-08,\n",
      "        -5.588484e-08, -7.659391e-08, -6.984642e-08, -8.556535e-08,\n",
      "        -9.723672e-08, -1.099611e-07]])\n",
      "Coordinates:\n",
      "    Time     float64 2.16e+05\n",
      "  * xt       (xt) float64 306.0 310.0 314.0 318.0 ... 378.0 382.0 386.0 390.0\n",
      "  * yt       (yt) float64 42.0 46.0 50.0 54.0 58.0 62.0 66.0 70.0\n",
      "Attributes:\n",
      "    long_name:  Surface salinity flux\n",
      "    units:      m g/s kg\n",
      "59\n"
     ]
    }
   ],
   "source": [
    "zout = ds.forc_salt_surface\n",
    "opp = ds2.area_t\n",
    "\n",
    "\n",
    "c = zout[-1,30:38,31:53]\n",
    "print(c)\n",
    "\n",
    "d = np.count_nonzero(~np.isnan(c))\n",
    "print(d)"
   ]
  },
  {
   "cell_type": "code",
   "execution_count": 5,
   "metadata": {},
   "outputs": [
    {
     "name": "stdout",
     "output_type": "stream",
     "text": [
      "<xarray.DataArray 'area_t' ()>\n",
      "array(0.00015762)\n",
      "<xarray.DataArray 'area_t' (yt: 8, xt: 22)>\n",
      "array([[           nan,            nan,            nan,            nan,\n",
      "        3.65141818e-06, 3.65141818e-06, 3.65141818e-06, 3.65141818e-06,\n",
      "        3.65141818e-06, 3.65141818e-06, 3.65141818e-06, 3.65141818e-06,\n",
      "                   nan,            nan,            nan,            nan,\n",
      "                   nan,            nan,            nan,            nan,\n",
      "                   nan,            nan],\n",
      "       [           nan,            nan,            nan,            nan,\n",
      "        3.41318154e-06, 3.41318154e-06, 3.41318154e-06, 3.41318154e-06,\n",
      "        3.41318154e-06, 3.41318154e-06, 3.41318154e-06,            nan,\n",
      "                   nan,            nan,            nan,            nan,\n",
      "                   nan,            nan,            nan,            nan,\n",
      "                   nan,            nan],\n",
      "       [           nan,            nan,            nan,            nan,\n",
      "        3.15831623e-06, 3.15831623e-06, 3.15831623e-06, 3.15831623e-06,\n",
      "        3.15831623e-06, 3.15831623e-06, 3.15831623e-06, 3.15831623e-06,\n",
      "                   nan,            nan,            nan,            nan,\n",
      "                   nan,            nan,            nan,            nan,\n",
      "                   nan,            nan],\n",
      "       [           nan,            nan,            nan,            nan,\n",
      "                   nan,            nan,            nan, 2.88806392e-06,\n",
      "        2.88806392e-06, 2.88806392e-06, 2.88806392e-06, 2.88806392e-06,\n",
      "        2.88806392e-06, 2.88806392e-06,            nan,            nan,\n",
      "                   nan,            nan,            nan,            nan,\n",
      "                   nan,            nan],\n",
      "       [           nan,            nan,            nan,            nan,\n",
      "                   nan,            nan,            nan,            nan,\n",
      "                   nan,            nan, 2.60374125e-06, 2.60374125e-06,\n",
      "        2.60374125e-06, 2.60374125e-06, 2.60374125e-06,            nan,\n",
      "                   nan,            nan,            nan,            nan,\n",
      "                   nan,            nan],\n",
      "       [           nan,            nan,            nan,            nan,\n",
      "                   nan,            nan,            nan,            nan,\n",
      "                   nan,            nan,            nan, 2.30673341e-06,\n",
      "        2.30673341e-06, 2.30673341e-06, 2.30673341e-06,            nan,\n",
      "                   nan,            nan,            nan,            nan,\n",
      "                   nan,            nan],\n",
      "       [           nan,            nan,            nan,            nan,\n",
      "                   nan,            nan,            nan,            nan,\n",
      "                   nan,            nan,            nan, 1.99848740e-06,\n",
      "        1.99848740e-06, 1.99848740e-06, 1.99848740e-06, 1.99848740e-06,\n",
      "        1.99848740e-06, 1.99848740e-06, 1.99848740e-06, 1.99848740e-06,\n",
      "        1.99848740e-06,            nan],\n",
      "       [           nan,            nan,            nan,            nan,\n",
      "                   nan,            nan,            nan,            nan,\n",
      "                   nan,            nan,            nan,            nan,\n",
      "        1.68050496e-06, 1.68050496e-06, 1.68050496e-06, 1.68050496e-06,\n",
      "        1.68050496e-06, 1.68050496e-06, 1.68050496e-06, 1.68050496e-06,\n",
      "        1.68050496e-06, 1.68050496e-06]])\n",
      "Coordinates:\n",
      "  * xt       (xt) float64 306.0 310.0 314.0 318.0 ... 378.0 382.0 386.0 390.0\n",
      "  * yt       (yt) float64 42.0 46.0 50.0 54.0 58.0 62.0 66.0 70.0\n",
      "<xarray.DataArray 'area_t' ()>\n",
      "array(3.0700885e-06)\n",
      "<xarray.DataArray 'area_t' (yt: 40, xt: 90)>\n",
      "array([[           nan,            nan,            nan, ...,\n",
      "                   nan,            nan,            nan],\n",
      "       [5.13799229e-10, 5.13799229e-10, 5.13799229e-10, ...,\n",
      "        5.13799229e-10, 5.13799229e-10, 5.13799229e-10],\n",
      "       [6.37539442e-10, 6.37539442e-10, 6.37539442e-10, ...,\n",
      "        6.37539442e-10, 6.37539442e-10, 6.37539442e-10],\n",
      "       ...,\n",
      "       [           nan,            nan,            nan, ...,\n",
      "                   nan,            nan,            nan],\n",
      "       [           nan,            nan,            nan, ...,\n",
      "                   nan,            nan,            nan],\n",
      "       [           nan,            nan,            nan, ...,\n",
      "                   nan,            nan,            nan]])\n",
      "Coordinates:\n",
      "  * xt       (xt) float64 182.0 186.0 190.0 194.0 ... 526.0 530.0 534.0 538.0\n",
      "  * yt       (yt) float64 -78.0 -74.0 -70.0 -66.0 -62.0 ... 66.0 70.0 74.0 78.0\n"
     ]
    }
   ],
   "source": [
    "#for perturbed area\n",
    "f = 10**9 / np.sum(opp[30:38,31:53])\n",
    "print(f)\n",
    "\n",
    "a = np.sum(opp[30:38,31:53])\n",
    "a_n = opp[30:38,31:53]\n",
    "\n",
    "#print(a_n)\n",
    "\n",
    "deel = a_n/a\n",
    "#print(deel)\n",
    "\n",
    "f_n = f * deel\n",
    "print(f_n)\n",
    "\n",
    "\n",
    "#for the rest of the world\n",
    "\n",
    "f2 = 10**9 / np.sum(opp[:,:])\n",
    "print(f2)\n",
    "\n",
    "a2 = np.sum(opp[:,:])\n",
    "a_n2 = opp[:,:]\n",
    "\n",
    "deel2 = a_n2/a2\n",
    "\n",
    "f_n2 = f2 * deel2\n",
    "\n",
    "print(f_n2)\n",
    "\n",
    "#print(np.sum(zout[-1,:,:]))"
   ]
  },
  {
   "cell_type": "code",
   "execution_count": 6,
   "metadata": {},
   "outputs": [],
   "source": [
    "zout[-1,30:38,31:53] = zout[-1,30:38,31:53] - f_n\n",
    "\n",
    "zout[-1,:,:] = zout[-1,:,:] + f_n2"
   ]
  },
  {
   "cell_type": "code",
   "execution_count": 7,
   "metadata": {},
   "outputs": [],
   "source": [
    "ds.variables['forc_salt_surface'][:]=zout"
   ]
  },
  {
   "cell_type": "code",
   "execution_count": 8,
   "metadata": {},
   "outputs": [
    {
     "data": {
      "text/plain": [
       "<bound method DataWithCoords.close of <xarray.Dataset>\n",
       "Dimensions:            (Time: 100, isle: 6, xt: 90, xu: 90, yt: 40, yu: 40, zt: 15, zw: 15)\n",
       "Coordinates:\n",
       "  * Time               (Time) float64 1.804e+05 1.807e+05 ... 2.156e+05 2.16e+05\n",
       "  * isle               (isle) float64 1.0 2.0 3.0 4.0 5.0 6.0\n",
       "  * xt                 (xt) float64 182.0 186.0 190.0 ... 530.0 534.0 538.0\n",
       "  * xu                 (xu) float64 184.0 188.0 192.0 ... 532.0 536.0 540.0\n",
       "  * yt                 (yt) float64 -78.0 -74.0 -70.0 -66.0 ... 70.0 74.0 78.0\n",
       "  * yu                 (yu) float64 -76.0 -72.0 -68.0 -64.0 ... 72.0 76.0 80.0\n",
       "  * zt                 (zt) float64 -4.855e+03 -4.165e+03 ... -65.0 -35.0\n",
       "  * zw                 (zw) float64 -4.51e+03 -3.87e+03 -3.28e+03 ... -50.0 0.0\n",
       "Data variables:\n",
       "    Hd                 (Time, zt, yt, xt) float64 ...\n",
       "    Nsqr               (Time, zw, yt, xt) float64 ...\n",
       "    area_t             (yt, xt) float64 ...\n",
       "    area_u             (yt, xu) float64 ...\n",
       "    area_v             (yu, xt) float64 ...\n",
       "    beta               (yt, xt) float64 ...\n",
       "    dxt                (xt) float64 ...\n",
       "    dxu                (xu) float64 ...\n",
       "    dyt                (yt) float64 ...\n",
       "    dyu                (yu) float64 ...\n",
       "    dzt                (zt) float64 ...\n",
       "    dzw                (zw) float64 ...\n",
       "    eke                (Time, zw, yt, xt) float64 ...\n",
       "    forc_rho_surface   (Time, yt, xt) float64 ...\n",
       "    forc_salt_surface  (Time, yt, xt) float64 ...\n",
       "    forc_temp_surface  (Time, yt, xt) float64 ...\n",
       "    forc_tke_surface   (Time, yt, xt) float64 ...\n",
       "    ht                 (yt, xt) float64 ...\n",
       "    hu                 (yt, xu) float64 ...\n",
       "    hv                 (yu, xt) float64 ...\n",
       "    int_drhodS         (Time, zt, yt, xt) float64 ...\n",
       "    int_drhodT         (Time, zt, yt, xt) float64 ...\n",
       "    kappaH             (Time, zw, yt, xt) float64 ...\n",
       "    kappaM             (Time, zt, yt, xt) float64 ...\n",
       "    p_hydro            (Time, zt, yt, xt) float64 ...\n",
       "    prho               (Time, zt, yt, xt) float64 ...\n",
       "    psi                (Time, yu, xu) float64 ...\n",
       "    psin               (isle, yu, xu) float64 ...\n",
       "    rho                (Time, zt, yt, xt) float64 ...\n",
       "    salt               (Time, zt, yt, xt) float64 ...\n",
       "    surface_taux       (Time, yt, xu) float64 ...\n",
       "    surface_tauy       (Time, yu, xt) float64 ...\n",
       "    temp               (Time, zt, yt, xt) float64 ...\n",
       "    tke                (Time, zw, yt, xt) float64 ...\n",
       "    u                  (Time, zt, yt, xu) float64 ...\n",
       "    v                  (Time, zt, yu, xt) float64 ...\n",
       "    w                  (Time, zw, yt, xt) float64 ...>"
      ]
     },
     "execution_count": 8,
     "metadata": {},
     "output_type": "execute_result"
    }
   ],
   "source": [
    "ds.close\n",
    "ds2.close"
   ]
  },
  {
   "cell_type": "code",
   "execution_count": 9,
   "metadata": {},
   "outputs": [
    {
     "name": "stdout",
     "output_type": "stream",
     "text": [
      "saving to  ./pertubration_eocene3.nc\n",
      "finished saving\n"
     ]
    }
   ],
   "source": [
    "new_filename_2 = './pertubration_eocene3.nc'\n",
    "print ('saving to ', new_filename_2)\n",
    "ds.to_netcdf(path=new_filename_2)\n",
    "ds.close()\n",
    "print ('finished saving')"
   ]
  },
  {
   "cell_type": "code",
   "execution_count": 11,
   "metadata": {},
   "outputs": [
    {
     "data": {
      "text/plain": [
       "Text(0.5, 1.0, 'Perturbation eocene')"
      ]
     },
     "execution_count": 11,
     "metadata": {},
     "output_type": "execute_result"
    },
    {
     "data": {
      "image/png": "[encoded data removed]",
      "text/plain": [
       "<Figure size 432x288 with 2 Axes>"
      ]
     },
     "metadata": {
      "needs_background": "light"
     },
     "output_type": "display_data"
    },
    {
     "data": {
      "image/png": "[encoded data removed]",
      "text/plain": [
       "<Figure size 432x288 with 2 Axes>"
      ]
     },
     "metadata": {
      "needs_background": "light"
     },
     "output_type": "display_data"
    }
   ],
   "source": [
    "im = ds['forc_salt_surface'].isel(Time=-1).plot.pcolormesh(levels=50, add_colorbar=False)\n",
    "cb = plt.colorbar(im)\n",
    "cb.set_label(label='Surface salinity flux')\n",
    "plt.title(\"Perturbation eocene\")\n",
    "plt.savefig('Perturbation eocene', dpi=1000)\n",
    "\n",
    "plt.figure()\n",
    "im = ds['forc_salt_surface'].isel(Time=-1).plot.pcolormesh(levels=50, add_colorbar=False)\n",
    "cb = plt.colorbar(im)\n",
    "cb.set_label(label='Surface salijnity flux')\n",
    "plt.axis([300, 400, 40, 70]) \n",
    "plt.title(\"Perturbation eocene\")"
   ]
  },
  {
   "cell_type": "code",
   "execution_count": null,
   "metadata": {},
   "outputs": [],
   "source": []
  },
  {
   "cell_type": "code",
   "execution_count": null,
   "metadata": {},
   "outputs": [],
   "source": []
  }
 ],
 "metadata": {
  "kernelspec": {
   "display_name": "Python 3",
   "language": "python",
   "name": "python3"
  },
  "language_info": {
   "codemirror_mode": {
    "name": "ipython",
    "version": 3
   },
   "file_extension": ".py",
   "mimetype": "text/x-python",
   "name": "python",
   "nbconvert_exporter": "python",
   "pygments_lexer": "ipython3",
   "version": "3.7.4"
  }
 },
 "nbformat": 4,
 "nbformat_minor": 2
}
